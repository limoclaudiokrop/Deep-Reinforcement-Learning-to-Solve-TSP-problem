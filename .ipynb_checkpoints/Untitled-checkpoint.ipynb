{
 "cells": [
  {
   "cell_type": "markdown",
   "id": "e5d6088f",
   "metadata": {},
   "source": [
    "# Traveling Salesman Problem (TSP)"
   ]
  },
  {
   "cell_type": "markdown",
   "id": "345d9636",
   "metadata": {},
   "source": [
    "# Read Data"
   ]
  },
  {
   "cell_type": "code",
   "execution_count": 3,
   "id": "d564c3cc",
   "metadata": {},
   "outputs": [
    {
     "name": "stdout",
     "output_type": "stream",
     "text": [
      "['Albany,NY', '42.652552778', '-73.75732222']\n",
      "['Annapolis,MD', '38.978611111', '-76.49111111']\n",
      "['Atlanta,GA', '33.749272222', '-84.38826111']\n",
      "['Augusta,ME', '44.307236111', '-69.78167778']\n",
      "['Austin,TX', '30.274722222', '-97.74055556']\n",
      "['BatonRouge,', 'LA', '30.457072222']\n",
      "['Bismarck,ND', '46.820813889', '-100.7827417']\n",
      "['Boise,ID', '43.617697222', '-116.1996139']\n",
      "['Boston,MA', '42.357708333', '-71.06356389']\n",
      "['CarsonCity,', 'NV', '39.164075']\n",
      "['Charleston,WV', '38.336388889', '-81.61222222']\n",
      "['Cheyenne,WY', '41.140277778', '-104.8197222']\n",
      "['Columbia,SC', '34.000433333', '-81.03314722']\n",
      "['Columbus,OH', '39.961388889', '-82.99888889']\n",
      "['Concord,NH', '43.206747222', '-71.53812778']\n",
      "['Denver,CO', '39.739094444', '-104.9848972']\n",
      "['DesMoines,', 'IA', '41.591177778']\n",
      "['Dover,DE', '39.157305556', '-75.51972222']\n",
      "['Frankfort,KY', '38.186777778', '-84.87533333']\n",
      "['Harrisburg,PA', '40.264444444', '-76.86666667']\n",
      "['Hartford,CT', '41.764136111', '-72.68277778']\n",
      "['Helena,MT', '46.5857', '-112.0184']\n",
      "['Indianapolis,IN', '39.768611111', '-86.1625']\n",
      "['Jackson,MS', '32.303888889', '-90.18222222']\n",
      "['JeffersonCity,', 'MO', '38.579119444']\n",
      "['Lansing,MI', '42.733727778', '-84.55558889']\n",
      "['Lincoln,NE', '40.808088889', '-96.69958611']\n",
      "['LittleRock,', 'AR', '34.746758333']\n",
      "['Madison,WI', '43.074444444', '-89.38472222']\n",
      "['Montgomery,AL', '32.377447222', '-86.30094167']\n",
      "['Montpelier,VT', '44.262222222', '-72.58083333']\n",
      "['Nashville,TN', '36.165833333', '-86.78416667']\n",
      "['OklahomaCity,', 'OK', '35.492280556']\n",
      "['Olympia,WA', '47.035277778', '-122.9063889']\n",
      "['Phoenix,AZ', '33.448097222', '-112.0970944']\n",
      "['Pierre,SD', '44.367166667', '-100.3463528']\n",
      "['Providence,RI', '41.830833333', '-71.415']\n",
      "['Raleigh,NC', '35.780277778', '-78.63916667']\n",
      "['Richmond,VA', '37.538758333', '-77.43359444']\n",
      "['Sacramento,CA', '38.576572222', '-121.4934111']\n",
      "['SaintPaul,', 'MN', '44.955147222']\n",
      "['Salem,OR', '44.938730556', '-123.0300972']\n",
      "['SaltLake', 'City,', 'UT']\n",
      "['SantaFe,', 'NM', '35.682280556']\n",
      "['Springfield,IL', '39.798516667', '-89.65488889']\n",
      "['Tallahassee,FL', '30.438111111', '-84.2816']\n",
      "['Topeka,KS', '39.048008333', '-95.67815556']\n",
      "['Trenton,NJ', '40.220436111', '-74.76990278']\n",
      "['Washington,DC', '38.889802778', '-77.00911389']\n"
     ]
    }
   ],
   "source": [
    "\n",
    "def readData():\n",
    "    data = []\n",
    "    with open(\"file.txt\") as file:\n",
    "        for line in file:\n",
    "            words = line.split(',')\n",
    "            longs = words[1].split()\n",
    "            \n",
    "            arr = []\n",
    "            arr.append(words[0])\n",
    "            arr.append(longs[0])\n",
    "            arr.append(longs[1])\n",
    "            arr.append(longs[2])\n",
    "            data.append(arr)\n",
    "            \n",
    "    return data\n",
    "data = readData()\n",
    "for d in data:\n",
    "    print(d)\n",
    "    "
   ]
  },
  {
   "cell_type": "markdown",
   "id": "6b6ad7a6",
   "metadata": {},
   "source": [
    "# 1. Greedy Algorithm"
   ]
  },
  {
   "cell_type": "code",
   "execution_count": null,
   "id": "3ef5e937",
   "metadata": {},
   "outputs": [],
   "source": []
  }
 ],
 "metadata": {
  "kernelspec": {
   "display_name": "Python 3 (ipykernel)",
   "language": "python",
   "name": "python3"
  },
  "language_info": {
   "codemirror_mode": {
    "name": "ipython",
    "version": 3
   },
   "file_extension": ".py",
   "mimetype": "text/x-python",
   "name": "python",
   "nbconvert_exporter": "python",
   "pygments_lexer": "ipython3",
   "version": "3.9.12"
  }
 },
 "nbformat": 4,
 "nbformat_minor": 5
}
